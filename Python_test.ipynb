{
 "cells": [
  {
   "cell_type": "markdown",
   "id": "4e3f8bec-6d56-4cdf-9fa4-9252a8aa1452",
   "metadata": {},
   "source": [
    "### 1)\tWrite a program to count the sub_string from main string\n",
    "### Example:- A B C D C D C\n",
    "### Sub_string= C D C result =2\n"
   ]
  },
  {
   "cell_type": "code",
   "execution_count": 46,
   "id": "2bfb6dce-58d5-4d8e-bfa8-ea9758024f43",
   "metadata": {},
   "outputs": [
    {
     "name": "stdout",
     "output_type": "stream",
     "text": [
      "2\n"
     ]
    }
   ],
   "source": [
    "def count_substring(main_string, sub_string):\n",
    "  count = 0\n",
    "  for i in range(len(main_string) - len(sub_string) + 1):\n",
    "    if main_string[i:i + len(sub_string)] == sub_string:\n",
    "      count += 1\n",
    "  return count\n",
    "\n",
    "\n",
    "main_string = \"A B C D C D C\"\n",
    "sub_string = \"C D C\"\n",
    "result = count_substring(main_string, sub_string)\n",
    "print(result)"
   ]
  },
  {
   "cell_type": "markdown",
   "id": "0873f4d5-6056-4068-ac4b-9a181e4d5363",
   "metadata": {},
   "source": [
    "### 2)\tWrite a program to take 4 number and store in list \n",
    "### [2,4,6,8] find the factorial of the each number of the list and store the value  in the list \n"
   ]
  },
  {
   "cell_type": "code",
   "execution_count": 7,
   "id": "d2a55efc-7769-49ee-9be9-bba22393726d",
   "metadata": {},
   "outputs": [
    {
     "name": "stdout",
     "output_type": "stream",
     "text": [
      "[2, 24, 720, 40320]\n"
     ]
    }
   ],
   "source": [
    "def factorial(n):\n",
    "  \"\"\"Calculates the factorial of a given number.\"\"\"\n",
    "  if n == 0:\n",
    "    return 1\n",
    "  else:\n",
    "    return n * factorial(n - 1)\n",
    "\n",
    "numbers = [2, 4, 6, 8]\n",
    "factorials = []\n",
    "\n",
    "for num in numbers:\n",
    "  fact = factorial(num)\n",
    "  factorials.append(fact)\n",
    "\n",
    "print(factorials)"
   ]
  },
  {
   "cell_type": "markdown",
   "id": "2c088ca6-1e59-4a9e-85c8-0b4b27c83eff",
   "metadata": {},
   "source": [
    "### 3)\tCreate a strong password combining words, numbers and characters. \n",
    "### (* )Keep creating the new password until you find one you like  \n"
   ]
  },
  {
   "cell_type": "code",
   "execution_count": 20,
   "id": "2cb7d771-24dd-4e95-b549-25fca1b6f2f7",
   "metadata": {},
   "outputs": [
    {
     "name": "stdout",
     "output_type": "stream",
     "text": [
      "welcome to the password picker game:-\n",
      "Your new password is-  smellygoat63,\n"
     ]
    },
    {
     "name": "stdin",
     "output_type": "stream",
     "text": [
      "Would you like another password..? type y for yes and n for no y\n"
     ]
    },
    {
     "name": "stdout",
     "output_type": "stream",
     "text": [
      "Your new password is-  proudgoat1:\n"
     ]
    },
    {
     "name": "stdin",
     "output_type": "stream",
     "text": [
      "Would you like another password..? type y for yes and n for no y\n"
     ]
    },
    {
     "name": "stdout",
     "output_type": "stream",
     "text": [
      "Your new password is-  proudball82+\n"
     ]
    },
    {
     "name": "stdin",
     "output_type": "stream",
     "text": [
      "Would you like another password..? type y for yes and n for no y\n"
     ]
    },
    {
     "name": "stdout",
     "output_type": "stream",
     "text": [
      "Your new password is-  proudball98;\n"
     ]
    },
    {
     "name": "stdin",
     "output_type": "stream",
     "text": [
      "Would you like another password..? type y for yes and n for no n\n"
     ]
    }
   ],
   "source": [
    "import random\n",
    "import string\n",
    "adjectives=['wet','proud','sleepy','smelly','fatty','red','fluffy','brave']\n",
    "nouns=['apple','dinosaur','ball','goat','dragon','panda']\n",
    "print(\"welcome to the password picker game:-\")\n",
    "while True:\n",
    "    adjective=random.choice(adjectives)\n",
    "    noun=random.choice(nouns)\n",
    "    number=random.randrange(1,100)\n",
    "    scr=random.choice(string.punctuation)\n",
    "    password=adjective+noun+str(number)+scr\n",
    "    print(\"Your new password is- \",password)\n",
    "    response=input(\"Would you like another password..? type y for yes and n for no\"\"\")\n",
    "    if response==\"n\":\n",
    "        break"
   ]
  },
  {
   "cell_type": "markdown",
   "id": "a0fba4f1-76b8-4591-b1be-01f815aa63e3",
   "metadata": {},
   "source": [
    "### Checking of the vowels inside the string"
   ]
  },
  {
   "cell_type": "code",
   "execution_count": 40,
   "id": "45eaf313-eec9-4901-b21b-ed102e401a41",
   "metadata": {},
   "outputs": [],
   "source": [
    "def checking_vowels(string,vowels):\n",
    "    string=string.casefold()\n",
    "    count={}.fromkeys(vowels,0)\n",
    "\n",
    "    for character in string:\n",
    "        if character in count:\n",
    "            count[character]+=1\n",
    "    return count"
   ]
  },
  {
   "cell_type": "code",
   "execution_count": 42,
   "id": "c9bf8c79-6ec2-4f5b-8e6f-52f0ce9b0a4e",
   "metadata": {},
   "outputs": [],
   "source": [
    "vowels=\"aeiou\"\n",
    "string=\"Hi, I am Student of HIT College\"\n",
    "dic = checking_vowels(string,vowels)"
   ]
  },
  {
   "cell_type": "code",
   "execution_count": 44,
   "id": "f55ebc61-15ac-4ca8-a5ff-6c9d82f91ee0",
   "metadata": {},
   "outputs": [
    {
     "name": "stdout",
     "output_type": "stream",
     "text": [
      "10\n"
     ]
    }
   ],
   "source": [
    "print(sum(dic.values()))"
   ]
  },
  {
   "cell_type": "markdown",
   "id": "18feea9d-fa82-4d63-b316-09c7dff7b6a7",
   "metadata": {},
   "source": [
    "### 5)\tA python program to access each element of a string in forward and reverse orders using while loop "
   ]
  },
  {
   "cell_type": "code",
   "execution_count": 56,
   "id": "ae8215c3-e6c3-4cba-8fb7-9ead0ae96602",
   "metadata": {},
   "outputs": [
    {
     "name": "stdout",
     "output_type": "stream",
     "text": [
      "-:Accessing string element in forword order:- \n",
      "S w a g a t a \n",
      "-:Accessing string elemnt in reverse order:-\n",
      "a t a g a w S "
     ]
    }
   ],
   "source": [
    "def access_string(s):\n",
    "    print(\"-:Accessing string element in forword order:- \")\n",
    "    i = 0\n",
    "    while i < len(s):\n",
    "        print(s[i], end= \" \")\n",
    "        i += 1\n",
    "    print(\"\\n-:Accessing string elemnt in reverse order:-\")\n",
    "    i = len(s) - 1\n",
    "    while i >= 0:\n",
    "        print(s[i],end=\" \")\n",
    "        i -= 1\n",
    "string = \"Swagata\"\n",
    "access_string(string)"
   ]
  },
  {
   "cell_type": "markdown",
   "id": "8c5e9d1a-bf7f-4573-b495-ea68940450cb",
   "metadata": {},
   "source": [
    "### 6)\tWrite a python program to know whether a sub- string exists in main string "
   ]
  },
  {
   "cell_type": "code",
   "execution_count": 59,
   "id": "9cbd036d-b81e-4da7-b4c3-56a7523e3c7c",
   "metadata": {},
   "outputs": [
    {
     "name": "stdout",
     "output_type": "stream",
     "text": [
      "6\n"
     ]
    }
   ],
   "source": [
    "def find_first_occurrence(main_string, sub_string):\n",
    "  index = main_string.find(sub_string)\n",
    "  return index\n",
    "\n",
    "main_string = \"It is hot summer\"\n",
    "sub_string = \"hot\"\n",
    "result = find_first_occurrence(main_string, sub_string)\n",
    "print(result)"
   ]
  },
  {
   "cell_type": "markdown",
   "id": "7107e88e-1b3b-455a-89c5-f1d07b3f6a12",
   "metadata": {},
   "source": [
    "### 7)\tA python program to find the first occurrences of sub string in a given main string  "
   ]
  },
  {
   "cell_type": "code",
   "execution_count": 62,
   "id": "5ec5ce3b-af08-4d3b-b336-c6316763d14a",
   "metadata": {},
   "outputs": [
    {
     "name": "stdout",
     "output_type": "stream",
     "text": [
      "it is hotsummer\n"
     ]
    }
   ],
   "source": [
    "def insert_substring(main_string, sub_string, position):\n",
    "  return main_string[:position] + sub_string + main_string[position:]\n",
    "\n",
    "# Example usage\n",
    "main_string = \"it is summer\"\n",
    "sub_string = \"hot\"\n",
    "position = 7-1\n",
    "result = insert_substring(main_string, sub_string, position)\n",
    "print(result)"
   ]
  },
  {
   "cell_type": "markdown",
   "id": "6acf9a5e-c41d-45e4-8c84-3f0f715be1a8",
   "metadata": {},
   "source": [
    "### 8) Generate an infinite fibonacci series by using generator yeild"
   ]
  },
  {
   "cell_type": "code",
   "execution_count": 65,
   "id": "51bf1845-0d5e-48b8-95a7-2ab2664464fe",
   "metadata": {},
   "outputs": [
    {
     "name": "stdout",
     "output_type": "stream",
     "text": [
      "0 1 1 2 3 5 8 13 21 34 "
     ]
    }
   ],
   "source": [
    "def fibonacci_generator(n):\n",
    "  a, b = 0, 1\n",
    "  for i in range(n):\n",
    "    yield a\n",
    "    a, b = b, a + b\n",
    "\n",
    "for j in fibonacci_generator(10):\n",
    "    print(j,end=' ')"
   ]
  },
  {
   "cell_type": "code",
   "execution_count": null,
   "id": "0943a76e-5439-424e-82a4-f4606e890daf",
   "metadata": {},
   "outputs": [],
   "source": []
  }
 ],
 "metadata": {
  "kernelspec": {
   "display_name": "Python 3 (ipykernel)",
   "language": "python",
   "name": "python3"
  },
  "language_info": {
   "codemirror_mode": {
    "name": "ipython",
    "version": 3
   },
   "file_extension": ".py",
   "mimetype": "text/x-python",
   "name": "python",
   "nbconvert_exporter": "python",
   "pygments_lexer": "ipython3",
   "version": "3.12.4"
  }
 },
 "nbformat": 4,
 "nbformat_minor": 5
}
